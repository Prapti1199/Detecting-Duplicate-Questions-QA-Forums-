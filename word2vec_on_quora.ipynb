{
 "cells": [
  {
   "cell_type": "code",
   "execution_count": 1,
   "metadata": {},
   "outputs": [
    {
     "name": "stdout",
     "output_type": "stream",
     "text": [
      "PACKAGES LOADED\n"
     ]
    }
   ],
   "source": [
    "import gensim\n",
    "import logging\n",
    "import os\n",
    "import nltk.data\n",
    "import string\n",
    "%matplotlib inline\n",
    "\n",
    "logging.basicConfig(format='%(asctime)s : %(levelname)s : %(message)s', level=logging.INFO)\n",
    "\n",
    "print (\"PACKAGES LOADED\")"
   ]
  },
  {
   "cell_type": "code",
   "execution_count": 4,
   "metadata": {},
   "outputs": [
    {
     "data": {
      "text/html": [
       "<div>\n",
       "<style scoped>\n",
       "    .dataframe tbody tr th:only-of-type {\n",
       "        vertical-align: middle;\n",
       "    }\n",
       "\n",
       "    .dataframe tbody tr th {\n",
       "        vertical-align: top;\n",
       "    }\n",
       "\n",
       "    .dataframe thead th {\n",
       "        text-align: right;\n",
       "    }\n",
       "</style>\n",
       "<table border=\"1\" class=\"dataframe\">\n",
       "  <thead>\n",
       "    <tr style=\"text-align: right;\">\n",
       "      <th></th>\n",
       "      <th>id</th>\n",
       "      <th>qid1</th>\n",
       "      <th>qid2</th>\n",
       "      <th>question1</th>\n",
       "      <th>question2</th>\n",
       "      <th>is_duplicate</th>\n",
       "    </tr>\n",
       "  </thead>\n",
       "  <tbody>\n",
       "    <tr>\n",
       "      <td>0</td>\n",
       "      <td>0</td>\n",
       "      <td>1</td>\n",
       "      <td>2</td>\n",
       "      <td>What is the step by step guide to invest in sh...</td>\n",
       "      <td>What is the step by step guide to invest in sh...</td>\n",
       "      <td>0</td>\n",
       "    </tr>\n",
       "    <tr>\n",
       "      <td>1</td>\n",
       "      <td>1</td>\n",
       "      <td>3</td>\n",
       "      <td>4</td>\n",
       "      <td>What is the story of Kohinoor (Koh-i-Noor) Dia...</td>\n",
       "      <td>What would happen if the Indian government sto...</td>\n",
       "      <td>0</td>\n",
       "    </tr>\n",
       "    <tr>\n",
       "      <td>2</td>\n",
       "      <td>2</td>\n",
       "      <td>5</td>\n",
       "      <td>6</td>\n",
       "      <td>How can I increase the speed of my internet co...</td>\n",
       "      <td>How can Internet speed be increased by hacking...</td>\n",
       "      <td>0</td>\n",
       "    </tr>\n",
       "    <tr>\n",
       "      <td>3</td>\n",
       "      <td>3</td>\n",
       "      <td>7</td>\n",
       "      <td>8</td>\n",
       "      <td>Why am I mentally very lonely? How can I solve...</td>\n",
       "      <td>Find the remainder when [math]23^{24}[/math] i...</td>\n",
       "      <td>0</td>\n",
       "    </tr>\n",
       "    <tr>\n",
       "      <td>4</td>\n",
       "      <td>4</td>\n",
       "      <td>9</td>\n",
       "      <td>10</td>\n",
       "      <td>Which one dissolve in water quikly sugar, salt...</td>\n",
       "      <td>Which fish would survive in salt water?</td>\n",
       "      <td>0</td>\n",
       "    </tr>\n",
       "  </tbody>\n",
       "</table>\n",
       "</div>"
      ],
      "text/plain": [
       "   id  qid1  qid2                                          question1  \\\n",
       "0   0     1     2  What is the step by step guide to invest in sh...   \n",
       "1   1     3     4  What is the story of Kohinoor (Koh-i-Noor) Dia...   \n",
       "2   2     5     6  How can I increase the speed of my internet co...   \n",
       "3   3     7     8  Why am I mentally very lonely? How can I solve...   \n",
       "4   4     9    10  Which one dissolve in water quikly sugar, salt...   \n",
       "\n",
       "                                           question2  is_duplicate  \n",
       "0  What is the step by step guide to invest in sh...             0  \n",
       "1  What would happen if the Indian government sto...             0  \n",
       "2  How can Internet speed be increased by hacking...             0  \n",
       "3  Find the remainder when [math]23^{24}[/math] i...             0  \n",
       "4            Which fish would survive in salt water?             0  "
      ]
     },
     "execution_count": 4,
     "metadata": {},
     "output_type": "execute_result"
    }
   ],
   "source": [
    "import pandas as pd\n",
    "df = pd.read_csv(\"questions.csv\")\n",
    "df.head()"
   ]
  },
  {
   "cell_type": "code",
   "execution_count": 5,
   "metadata": {},
   "outputs": [
    {
     "data": {
      "text/plain": [
       "(404351, 6)"
      ]
     },
     "execution_count": 5,
     "metadata": {},
     "output_type": "execute_result"
    }
   ],
   "source": [
    "df.shape"
   ]
  },
  {
   "cell_type": "code",
   "execution_count": 6,
   "metadata": {},
   "outputs": [],
   "source": [
    "def read_questions(row,column_name):\n",
    "    return gensim.utils.simple_preprocess(str(row[column_name]).encode('utf-8'))\n",
    "    \n",
    "documents = []\n",
    "for index, row in df.iterrows():\n",
    "    documents.append(read_questions(row,\"question1\"))\n",
    "    if row[\"is_duplicate\"] == 0:\n",
    "        documents.append(read_questions(row,\"question2\"))"
   ]
  },
  {
   "cell_type": "code",
   "execution_count": 7,
   "metadata": {},
   "outputs": [
    {
     "name": "stdout",
     "output_type": "stream",
     "text": [
      "List of lists. Let's confirm:  <class 'list'>  of  <class 'list'>\n"
     ]
    }
   ],
   "source": [
    "print(\"List of lists. Let's confirm: \", type(documents), \" of \", type(documents[0]))"
   ]
  },
  {
   "cell_type": "code",
   "execution_count": 8,
   "metadata": {},
   "outputs": [
    {
     "name": "stderr",
     "output_type": "stream",
     "text": [
      "2020-03-07 17:29:00,415 : WARNING : consider setting layer size to a multiple of 4 for greater performance\n",
      "2020-03-07 17:29:00,417 : INFO : collecting all words and their counts\n",
      "2020-03-07 17:29:00,420 : INFO : PROGRESS: at sentence #0, processed 0 words, keeping 0 word types\n",
      "2020-03-07 17:29:00,463 : INFO : PROGRESS: at sentence #10000, processed 106852 words, keeping 10860 word types\n",
      "2020-03-07 17:29:00,495 : INFO : PROGRESS: at sentence #20000, processed 213342 words, keeping 15625 word types\n",
      "2020-03-07 17:29:00,531 : INFO : PROGRESS: at sentence #30000, processed 320191 words, keeping 19071 word types\n",
      "2020-03-07 17:29:00,570 : INFO : PROGRESS: at sentence #40000, processed 426195 words, keeping 22050 word types\n",
      "2020-03-07 17:29:00,615 : INFO : PROGRESS: at sentence #50000, processed 532897 words, keeping 24540 word types\n",
      "2020-03-07 17:29:00,666 : INFO : PROGRESS: at sentence #60000, processed 638516 words, keeping 26760 word types\n",
      "2020-03-07 17:29:00,693 : INFO : PROGRESS: at sentence #70000, processed 745247 words, keeping 28762 word types\n",
      "2020-03-07 17:29:00,730 : INFO : PROGRESS: at sentence #80000, processed 851775 words, keeping 30754 word types\n",
      "2020-03-07 17:29:00,778 : INFO : PROGRESS: at sentence #90000, processed 957886 words, keeping 32443 word types\n",
      "2020-03-07 17:29:00,808 : INFO : PROGRESS: at sentence #100000, processed 1063587 words, keeping 34061 word types\n",
      "2020-03-07 17:29:00,849 : INFO : PROGRESS: at sentence #110000, processed 1170743 words, keeping 35646 word types\n",
      "2020-03-07 17:29:00,887 : INFO : PROGRESS: at sentence #120000, processed 1277003 words, keeping 37056 word types\n",
      "2020-03-07 17:29:00,919 : INFO : PROGRESS: at sentence #130000, processed 1384354 words, keeping 38366 word types\n",
      "2020-03-07 17:29:00,955 : INFO : PROGRESS: at sentence #140000, processed 1490475 words, keeping 39611 word types\n",
      "2020-03-07 17:29:00,993 : INFO : PROGRESS: at sentence #150000, processed 1596368 words, keeping 40921 word types\n",
      "2020-03-07 17:29:01,027 : INFO : PROGRESS: at sentence #160000, processed 1702931 words, keeping 42188 word types\n",
      "2020-03-07 17:29:01,063 : INFO : PROGRESS: at sentence #170000, processed 1808367 words, keeping 43375 word types\n",
      "2020-03-07 17:29:01,099 : INFO : PROGRESS: at sentence #180000, processed 1913769 words, keeping 44434 word types\n",
      "2020-03-07 17:29:01,138 : INFO : PROGRESS: at sentence #190000, processed 2020192 words, keeping 45446 word types\n",
      "2020-03-07 17:29:01,168 : INFO : PROGRESS: at sentence #200000, processed 2127080 words, keeping 46535 word types\n",
      "2020-03-07 17:29:01,205 : INFO : PROGRESS: at sentence #210000, processed 2234013 words, keeping 47549 word types\n",
      "2020-03-07 17:29:01,247 : INFO : PROGRESS: at sentence #220000, processed 2340858 words, keeping 48560 word types\n",
      "2020-03-07 17:29:01,279 : INFO : PROGRESS: at sentence #230000, processed 2448287 words, keeping 49530 word types\n",
      "2020-03-07 17:29:01,318 : INFO : PROGRESS: at sentence #240000, processed 2555131 words, keeping 50569 word types\n",
      "2020-03-07 17:29:01,354 : INFO : PROGRESS: at sentence #250000, processed 2661937 words, keeping 51510 word types\n",
      "2020-03-07 17:29:01,389 : INFO : PROGRESS: at sentence #260000, processed 2769186 words, keeping 52481 word types\n",
      "2020-03-07 17:29:01,433 : INFO : PROGRESS: at sentence #270000, processed 2876245 words, keeping 53340 word types\n",
      "2020-03-07 17:29:01,466 : INFO : PROGRESS: at sentence #280000, processed 2982857 words, keeping 54153 word types\n",
      "2020-03-07 17:29:01,505 : INFO : PROGRESS: at sentence #290000, processed 3090127 words, keeping 55038 word types\n",
      "2020-03-07 17:29:01,549 : INFO : PROGRESS: at sentence #300000, processed 3197395 words, keeping 55830 word types\n",
      "2020-03-07 17:29:01,582 : INFO : PROGRESS: at sentence #310000, processed 3304016 words, keeping 56626 word types\n",
      "2020-03-07 17:29:01,621 : INFO : PROGRESS: at sentence #320000, processed 3409176 words, keeping 57396 word types\n",
      "2020-03-07 17:29:01,657 : INFO : PROGRESS: at sentence #330000, processed 3515890 words, keeping 58192 word types\n",
      "2020-03-07 17:29:01,696 : INFO : PROGRESS: at sentence #340000, processed 3621345 words, keeping 58926 word types\n",
      "2020-03-07 17:29:01,725 : INFO : PROGRESS: at sentence #350000, processed 3727338 words, keeping 59623 word types\n",
      "2020-03-07 17:29:01,761 : INFO : PROGRESS: at sentence #360000, processed 3833815 words, keeping 60373 word types\n",
      "2020-03-07 17:29:01,793 : INFO : PROGRESS: at sentence #370000, processed 3941220 words, keeping 61159 word types\n",
      "2020-03-07 17:29:01,837 : INFO : PROGRESS: at sentence #380000, processed 4047118 words, keeping 61823 word types\n",
      "2020-03-07 17:29:01,876 : INFO : PROGRESS: at sentence #390000, processed 4153777 words, keeping 62526 word types\n",
      "2020-03-07 17:29:01,922 : INFO : PROGRESS: at sentence #400000, processed 4262001 words, keeping 63230 word types\n",
      "2020-03-07 17:29:01,956 : INFO : PROGRESS: at sentence #410000, processed 4368155 words, keeping 63988 word types\n",
      "2020-03-07 17:29:01,993 : INFO : PROGRESS: at sentence #420000, processed 4474868 words, keeping 64693 word types\n",
      "2020-03-07 17:29:02,029 : INFO : PROGRESS: at sentence #430000, processed 4582173 words, keeping 65375 word types\n",
      "2020-03-07 17:29:02,067 : INFO : PROGRESS: at sentence #440000, processed 4690161 words, keeping 66016 word types\n",
      "2020-03-07 17:29:02,103 : INFO : PROGRESS: at sentence #450000, processed 4796555 words, keeping 66633 word types\n",
      "2020-03-07 17:29:02,135 : INFO : PROGRESS: at sentence #460000, processed 4903674 words, keeping 67306 word types\n",
      "2020-03-07 17:29:02,178 : INFO : PROGRESS: at sentence #470000, processed 5009399 words, keeping 67962 word types\n",
      "2020-03-07 17:29:02,220 : INFO : PROGRESS: at sentence #480000, processed 5115989 words, keeping 68605 word types\n",
      "2020-03-07 17:29:02,255 : INFO : PROGRESS: at sentence #490000, processed 5221112 words, keeping 69245 word types\n",
      "2020-03-07 17:29:02,293 : INFO : PROGRESS: at sentence #500000, processed 5327078 words, keeping 69870 word types\n",
      "2020-03-07 17:29:02,334 : INFO : PROGRESS: at sentence #510000, processed 5434080 words, keeping 70480 word types\n",
      "2020-03-07 17:29:02,368 : INFO : PROGRESS: at sentence #520000, processed 5539663 words, keeping 71091 word types\n",
      "2020-03-07 17:29:02,408 : INFO : PROGRESS: at sentence #530000, processed 5646646 words, keeping 71697 word types\n",
      "2020-03-07 17:29:02,447 : INFO : PROGRESS: at sentence #540000, processed 5754002 words, keeping 72233 word types\n",
      "2020-03-07 17:29:02,488 : INFO : PROGRESS: at sentence #550000, processed 5859298 words, keeping 72782 word types\n",
      "2020-03-07 17:29:02,520 : INFO : PROGRESS: at sentence #560000, processed 5965913 words, keeping 73333 word types\n",
      "2020-03-07 17:29:02,559 : INFO : PROGRESS: at sentence #570000, processed 6072880 words, keeping 73880 word types\n",
      "2020-03-07 17:29:02,596 : INFO : PROGRESS: at sentence #580000, processed 6179309 words, keeping 74379 word types\n",
      "2020-03-07 17:29:02,630 : INFO : PROGRESS: at sentence #590000, processed 6285422 words, keeping 74923 word types\n",
      "2020-03-07 17:29:02,664 : INFO : PROGRESS: at sentence #600000, processed 6392240 words, keeping 75458 word types\n",
      "2020-03-07 17:29:02,699 : INFO : PROGRESS: at sentence #610000, processed 6499015 words, keeping 75998 word types\n",
      "2020-03-07 17:29:02,734 : INFO : PROGRESS: at sentence #620000, processed 6606675 words, keeping 76531 word types\n",
      "2020-03-07 17:29:02,768 : INFO : PROGRESS: at sentence #630000, processed 6713554 words, keeping 77064 word types\n",
      "2020-03-07 17:29:02,803 : INFO : PROGRESS: at sentence #640000, processed 6821277 words, keeping 77577 word types\n",
      "2020-03-07 17:29:02,841 : INFO : PROGRESS: at sentence #650000, processed 6929168 words, keeping 78126 word types\n",
      "2020-03-07 17:29:02,881 : INFO : collected 78625 word types from a corpus of 7029378 raw words and 659396 sentences\n",
      "2020-03-07 17:29:02,882 : INFO : Loading a fresh vocabulary\n",
      "2020-03-07 17:29:03,019 : INFO : effective_min_count=2 retains 47343 unique words (60% of original 78625, drops 31282)\n",
      "2020-03-07 17:29:03,019 : INFO : effective_min_count=2 leaves 6998096 word corpus (99% of original 7029378, drops 31282)\n",
      "2020-03-07 17:29:03,306 : INFO : deleting the raw counts dictionary of 78625 items\n",
      "2020-03-07 17:29:03,309 : INFO : sample=0.001 downsamples 43 most-common words\n"
     ]
    },
    {
     "name": "stderr",
     "output_type": "stream",
     "text": [
      "2020-03-07 17:29:03,310 : INFO : downsampling leaves estimated 5093188 word corpus (72.8% of prior 6998096)\n",
      "2020-03-07 17:29:03,536 : INFO : estimated required memory for 47343 words and 150 dimensions: 80483100 bytes\n",
      "2020-03-07 17:29:03,537 : INFO : resetting layer weights\n"
     ]
    }
   ],
   "source": [
    "model = gensim.models.Word2Vec(size=150, window=10, min_count=2, sg=1, workers=10)\n",
    "model.build_vocab(documents)  # prepare the model vocabulary"
   ]
  },
  {
   "cell_type": "code",
   "execution_count": 9,
   "metadata": {},
   "outputs": [
    {
     "name": "stderr",
     "output_type": "stream",
     "text": [
      "C:\\Users\\prapt\\Anaconda3\\lib\\site-packages\\ipykernel_launcher.py:1: DeprecationWarning: Call to deprecated `iter` (Attribute will be removed in 4.0.0, use self.epochs instead).\n",
      "  \"\"\"Entry point for launching an IPython kernel.\n",
      "2020-03-07 17:29:31,315 : INFO : training model with 10 workers on 47343 vocabulary and 150 features, using sg=1 hs=0 sample=0.001 negative=5 window=10\n",
      "2020-03-07 17:29:32,339 : INFO : EPOCH 1 - PROGRESS: at 2.85% examples, 144383 words/s, in_qsize 19, out_qsize 0\n",
      "2020-03-07 17:29:33,401 : INFO : EPOCH 1 - PROGRESS: at 6.11% examples, 150876 words/s, in_qsize 20, out_qsize 0\n",
      "2020-03-07 17:29:34,438 : INFO : EPOCH 1 - PROGRESS: at 9.69% examples, 158658 words/s, in_qsize 19, out_qsize 0\n",
      "2020-03-07 17:29:35,500 : INFO : EPOCH 1 - PROGRESS: at 13.53% examples, 165249 words/s, in_qsize 20, out_qsize 0\n",
      "2020-03-07 17:29:36,571 : INFO : EPOCH 1 - PROGRESS: at 17.51% examples, 170139 words/s, in_qsize 19, out_qsize 0\n",
      "2020-03-07 17:29:37,572 : INFO : EPOCH 1 - PROGRESS: at 21.35% examples, 174119 words/s, in_qsize 19, out_qsize 0\n",
      "2020-03-07 17:29:38,591 : INFO : EPOCH 1 - PROGRESS: at 24.49% examples, 171631 words/s, in_qsize 19, out_qsize 0\n",
      "2020-03-07 17:29:39,597 : INFO : EPOCH 1 - PROGRESS: at 27.94% examples, 171756 words/s, in_qsize 20, out_qsize 0\n",
      "2020-03-07 17:29:40,638 : INFO : EPOCH 1 - PROGRESS: at 31.63% examples, 172781 words/s, in_qsize 19, out_qsize 0\n",
      "2020-03-07 17:29:41,693 : INFO : EPOCH 1 - PROGRESS: at 35.16% examples, 172687 words/s, in_qsize 19, out_qsize 0\n",
      "2020-03-07 17:29:42,718 : INFO : EPOCH 1 - PROGRESS: at 38.86% examples, 173664 words/s, in_qsize 20, out_qsize 0\n",
      "2020-03-07 17:29:43,791 : INFO : EPOCH 1 - PROGRESS: at 42.82% examples, 175035 words/s, in_qsize 19, out_qsize 0\n",
      "2020-03-07 17:29:44,799 : INFO : EPOCH 1 - PROGRESS: at 46.64% examples, 176407 words/s, in_qsize 19, out_qsize 0\n",
      "2020-03-07 17:29:45,861 : INFO : EPOCH 1 - PROGRESS: at 50.35% examples, 176457 words/s, in_qsize 19, out_qsize 0\n",
      "2020-03-07 17:29:46,870 : INFO : EPOCH 1 - PROGRESS: at 54.08% examples, 177113 words/s, in_qsize 19, out_qsize 0\n",
      "2020-03-07 17:29:47,898 : INFO : EPOCH 1 - PROGRESS: at 57.63% examples, 177041 words/s, in_qsize 19, out_qsize 0\n",
      "2020-03-07 17:29:48,968 : INFO : EPOCH 1 - PROGRESS: at 61.16% examples, 176562 words/s, in_qsize 19, out_qsize 0\n",
      "2020-03-07 17:29:50,014 : INFO : EPOCH 1 - PROGRESS: at 65.00% examples, 177137 words/s, in_qsize 19, out_qsize 0\n",
      "2020-03-07 17:29:51,088 : INFO : EPOCH 1 - PROGRESS: at 68.53% examples, 176672 words/s, in_qsize 18, out_qsize 1\n",
      "2020-03-07 17:29:52,103 : INFO : EPOCH 1 - PROGRESS: at 72.38% examples, 177470 words/s, in_qsize 19, out_qsize 0\n",
      "2020-03-07 17:29:53,145 : INFO : EPOCH 1 - PROGRESS: at 76.24% examples, 177948 words/s, in_qsize 19, out_qsize 0\n",
      "2020-03-07 17:29:54,190 : INFO : EPOCH 1 - PROGRESS: at 79.95% examples, 178043 words/s, in_qsize 20, out_qsize 1\n",
      "2020-03-07 17:29:55,206 : INFO : EPOCH 1 - PROGRESS: at 83.50% examples, 178059 words/s, in_qsize 19, out_qsize 0\n",
      "2020-03-07 17:29:56,216 : INFO : EPOCH 1 - PROGRESS: at 87.19% examples, 178402 words/s, in_qsize 19, out_qsize 0\n",
      "2020-03-07 17:29:57,221 : INFO : EPOCH 1 - PROGRESS: at 90.76% examples, 178470 words/s, in_qsize 19, out_qsize 0\n",
      "2020-03-07 17:29:58,300 : INFO : EPOCH 1 - PROGRESS: at 94.29% examples, 178035 words/s, in_qsize 20, out_qsize 0\n",
      "2020-03-07 17:29:59,311 : INFO : EPOCH 1 - PROGRESS: at 97.81% examples, 178086 words/s, in_qsize 16, out_qsize 0\n",
      "2020-03-07 17:29:59,578 : INFO : worker thread finished; awaiting finish of 9 more threads\n",
      "2020-03-07 17:29:59,594 : INFO : worker thread finished; awaiting finish of 8 more threads\n",
      "2020-03-07 17:29:59,670 : INFO : worker thread finished; awaiting finish of 7 more threads\n",
      "2020-03-07 17:29:59,689 : INFO : worker thread finished; awaiting finish of 6 more threads\n",
      "2020-03-07 17:29:59,710 : INFO : worker thread finished; awaiting finish of 5 more threads\n",
      "2020-03-07 17:29:59,741 : INFO : worker thread finished; awaiting finish of 4 more threads\n",
      "2020-03-07 17:29:59,753 : INFO : worker thread finished; awaiting finish of 3 more threads\n",
      "2020-03-07 17:29:59,779 : INFO : worker thread finished; awaiting finish of 2 more threads\n",
      "2020-03-07 17:29:59,801 : INFO : worker thread finished; awaiting finish of 1 more threads\n",
      "2020-03-07 17:29:59,845 : INFO : worker thread finished; awaiting finish of 0 more threads\n",
      "2020-03-07 17:29:59,847 : INFO : EPOCH - 1 : training on 7029378 raw words (5093523 effective words) took 28.5s, 178649 effective words/s\n",
      "2020-03-07 17:30:00,922 : INFO : EPOCH 2 - PROGRESS: at 2.98% examples, 145072 words/s, in_qsize 20, out_qsize 0\n",
      "2020-03-07 17:30:01,969 : INFO : EPOCH 2 - PROGRESS: at 6.68% examples, 162530 words/s, in_qsize 19, out_qsize 0\n",
      "2020-03-07 17:30:02,980 : INFO : EPOCH 2 - PROGRESS: at 10.26% examples, 167887 words/s, in_qsize 19, out_qsize 0\n",
      "2020-03-07 17:30:04,039 : INFO : EPOCH 2 - PROGRESS: at 13.95% examples, 170486 words/s, in_qsize 19, out_qsize 0\n",
      "2020-03-07 17:30:05,054 : INFO : EPOCH 2 - PROGRESS: at 17.66% examples, 173372 words/s, in_qsize 19, out_qsize 0\n",
      "2020-03-07 17:30:06,132 : INFO : EPOCH 2 - PROGRESS: at 21.50% examples, 174753 words/s, in_qsize 19, out_qsize 0\n",
      "2020-03-07 17:30:07,141 : INFO : EPOCH 2 - PROGRESS: at 24.64% examples, 172366 words/s, in_qsize 20, out_qsize 0\n",
      "2020-03-07 17:30:08,160 : INFO : EPOCH 2 - PROGRESS: at 27.80% examples, 170362 words/s, in_qsize 19, out_qsize 0\n",
      "2020-03-07 17:30:09,219 : INFO : EPOCH 2 - PROGRESS: at 31.63% examples, 172017 words/s, in_qsize 20, out_qsize 0\n",
      "2020-03-07 17:30:10,273 : INFO : EPOCH 2 - PROGRESS: at 35.31% examples, 172660 words/s, in_qsize 19, out_qsize 0\n",
      "2020-03-07 17:30:11,282 : INFO : EPOCH 2 - PROGRESS: at 38.57% examples, 171995 words/s, in_qsize 19, out_qsize 0\n",
      "2020-03-07 17:30:12,330 : INFO : EPOCH 2 - PROGRESS: at 41.97% examples, 171535 words/s, in_qsize 19, out_qsize 0\n",
      "2020-03-07 17:30:13,358 : INFO : EPOCH 2 - PROGRESS: at 45.36% examples, 171336 words/s, in_qsize 19, out_qsize 0\n",
      "2020-03-07 17:30:14,441 : INFO : EPOCH 2 - PROGRESS: at 48.94% examples, 170998 words/s, in_qsize 20, out_qsize 1\n",
      "2020-03-07 17:30:15,473 : INFO : EPOCH 2 - PROGRESS: at 52.80% examples, 172219 words/s, in_qsize 20, out_qsize 0\n",
      "2020-03-07 17:30:16,478 : INFO : EPOCH 2 - PROGRESS: at 55.64% examples, 170520 words/s, in_qsize 19, out_qsize 0\n",
      "2020-03-07 17:30:17,524 : INFO : EPOCH 2 - PROGRESS: at 59.19% examples, 170666 words/s, in_qsize 19, out_qsize 0\n",
      "2020-03-07 17:30:18,566 : INFO : EPOCH 2 - PROGRESS: at 62.87% examples, 171204 words/s, in_qsize 19, out_qsize 0\n",
      "2020-03-07 17:30:19,570 : INFO : EPOCH 2 - PROGRESS: at 66.54% examples, 172044 words/s, in_qsize 19, out_qsize 0\n",
      "2020-03-07 17:30:20,611 : INFO : EPOCH 2 - PROGRESS: at 70.24% examples, 172480 words/s, in_qsize 18, out_qsize 1\n",
      "2020-03-07 17:30:21,647 : INFO : EPOCH 2 - PROGRESS: at 74.09% examples, 173267 words/s, in_qsize 20, out_qsize 0\n",
      "2020-03-07 17:30:22,726 : INFO : EPOCH 2 - PROGRESS: at 78.09% examples, 173951 words/s, in_qsize 20, out_qsize 1\n",
      "2020-03-07 17:30:23,834 : INFO : EPOCH 2 - PROGRESS: at 82.07% examples, 174378 words/s, in_qsize 19, out_qsize 0\n",
      "2020-03-07 17:30:24,846 : INFO : EPOCH 2 - PROGRESS: at 85.92% examples, 175125 words/s, in_qsize 19, out_qsize 0\n",
      "2020-03-07 17:30:25,932 : INFO : EPOCH 2 - PROGRESS: at 89.91% examples, 175611 words/s, in_qsize 20, out_qsize 0\n",
      "2020-03-07 17:30:27,013 : INFO : EPOCH 2 - PROGRESS: at 93.73% examples, 175824 words/s, in_qsize 19, out_qsize 0\n",
      "2020-03-07 17:30:28,041 : INFO : EPOCH 2 - PROGRESS: at 97.67% examples, 176609 words/s, in_qsize 17, out_qsize 0\n",
      "2020-03-07 17:30:28,340 : INFO : worker thread finished; awaiting finish of 9 more threads\n",
      "2020-03-07 17:30:28,355 : INFO : worker thread finished; awaiting finish of 8 more threads\n",
      "2020-03-07 17:30:28,371 : INFO : worker thread finished; awaiting finish of 7 more threads\n",
      "2020-03-07 17:30:28,420 : INFO : worker thread finished; awaiting finish of 6 more threads\n",
      "2020-03-07 17:30:28,464 : INFO : worker thread finished; awaiting finish of 5 more threads\n",
      "2020-03-07 17:30:28,486 : INFO : worker thread finished; awaiting finish of 4 more threads\n",
      "2020-03-07 17:30:28,512 : INFO : worker thread finished; awaiting finish of 3 more threads\n"
     ]
    },
    {
     "name": "stderr",
     "output_type": "stream",
     "text": [
      "2020-03-07 17:30:28,514 : INFO : worker thread finished; awaiting finish of 2 more threads\n",
      "2020-03-07 17:30:28,556 : INFO : worker thread finished; awaiting finish of 1 more threads\n",
      "2020-03-07 17:30:28,573 : INFO : worker thread finished; awaiting finish of 0 more threads\n",
      "2020-03-07 17:30:28,575 : INFO : EPOCH - 2 : training on 7029378 raw words (5093607 effective words) took 28.7s, 177460 effective words/s\n",
      "2020-03-07 17:30:29,676 : INFO : EPOCH 3 - PROGRESS: at 2.98% examples, 140772 words/s, in_qsize 19, out_qsize 0\n",
      "2020-03-07 17:30:30,729 : INFO : EPOCH 3 - PROGRESS: at 6.97% examples, 166386 words/s, in_qsize 20, out_qsize 0\n",
      "2020-03-07 17:30:31,781 : INFO : EPOCH 3 - PROGRESS: at 10.68% examples, 170589 words/s, in_qsize 19, out_qsize 0\n",
      "2020-03-07 17:30:32,784 : INFO : EPOCH 3 - PROGRESS: at 14.53% examples, 176386 words/s, in_qsize 19, out_qsize 0\n",
      "2020-03-07 17:30:33,810 : INFO : EPOCH 3 - PROGRESS: at 18.37% examples, 179197 words/s, in_qsize 20, out_qsize 0\n",
      "2020-03-07 17:30:34,847 : INFO : EPOCH 3 - PROGRESS: at 22.21% examples, 180753 words/s, in_qsize 20, out_qsize 0\n",
      "2020-03-07 17:30:35,883 : INFO : EPOCH 3 - PROGRESS: at 25.94% examples, 180807 words/s, in_qsize 19, out_qsize 0\n",
      "2020-03-07 17:30:36,892 : INFO : EPOCH 3 - PROGRESS: at 29.93% examples, 183233 words/s, in_qsize 19, out_qsize 0\n",
      "2020-03-07 17:30:37,911 : INFO : EPOCH 3 - PROGRESS: at 33.47% examples, 182645 words/s, in_qsize 19, out_qsize 0\n",
      "2020-03-07 17:30:38,926 : INFO : EPOCH 3 - PROGRESS: at 37.15% examples, 182901 words/s, in_qsize 17, out_qsize 2\n",
      "2020-03-07 17:30:39,978 : INFO : EPOCH 3 - PROGRESS: at 41.11% examples, 183868 words/s, in_qsize 20, out_qsize 1\n",
      "2020-03-07 17:30:40,982 : INFO : EPOCH 3 - PROGRESS: at 44.79% examples, 184171 words/s, in_qsize 19, out_qsize 0\n",
      "2020-03-07 17:30:42,029 : INFO : EPOCH 3 - PROGRESS: at 48.65% examples, 184349 words/s, in_qsize 20, out_qsize 0\n",
      "2020-03-07 17:30:43,110 : INFO : EPOCH 3 - PROGRESS: at 52.80% examples, 185065 words/s, in_qsize 20, out_qsize 0\n",
      "2020-03-07 17:30:44,166 : INFO : EPOCH 3 - PROGRESS: at 56.77% examples, 185514 words/s, in_qsize 20, out_qsize 0\n",
      "2020-03-07 17:30:45,205 : INFO : EPOCH 3 - PROGRESS: at 60.60% examples, 185660 words/s, in_qsize 20, out_qsize 0\n",
      "2020-03-07 17:30:46,222 : INFO : EPOCH 3 - PROGRESS: at 64.43% examples, 186041 words/s, in_qsize 19, out_qsize 0\n",
      "2020-03-07 17:30:47,233 : INFO : EPOCH 3 - PROGRESS: at 68.25% examples, 186461 words/s, in_qsize 19, out_qsize 0\n",
      "2020-03-07 17:30:48,242 : INFO : EPOCH 3 - PROGRESS: at 71.80% examples, 186096 words/s, in_qsize 19, out_qsize 0\n",
      "2020-03-07 17:30:49,300 : INFO : EPOCH 3 - PROGRESS: at 75.96% examples, 186726 words/s, in_qsize 19, out_qsize 0\n",
      "2020-03-07 17:30:50,354 : INFO : EPOCH 3 - PROGRESS: at 79.80% examples, 186667 words/s, in_qsize 20, out_qsize 0\n",
      "2020-03-07 17:30:51,359 : INFO : EPOCH 3 - PROGRESS: at 83.22% examples, 186061 words/s, in_qsize 20, out_qsize 0\n",
      "2020-03-07 17:30:52,368 : INFO : EPOCH 3 - PROGRESS: at 86.91% examples, 186078 words/s, in_qsize 19, out_qsize 0\n",
      "2020-03-07 17:30:53,398 : INFO : EPOCH 3 - PROGRESS: at 90.47% examples, 185639 words/s, in_qsize 19, out_qsize 0\n",
      "2020-03-07 17:30:54,417 : INFO : EPOCH 3 - PROGRESS: at 94.15% examples, 185614 words/s, in_qsize 19, out_qsize 0\n",
      "2020-03-07 17:30:55,456 : INFO : EPOCH 3 - PROGRESS: at 97.69% examples, 185180 words/s, in_qsize 17, out_qsize 0\n",
      "2020-03-07 17:30:55,682 : INFO : worker thread finished; awaiting finish of 9 more threads\n",
      "2020-03-07 17:30:55,756 : INFO : worker thread finished; awaiting finish of 8 more threads\n",
      "2020-03-07 17:30:55,800 : INFO : worker thread finished; awaiting finish of 7 more threads\n",
      "2020-03-07 17:30:55,840 : INFO : worker thread finished; awaiting finish of 6 more threads\n",
      "2020-03-07 17:30:55,856 : INFO : worker thread finished; awaiting finish of 5 more threads\n",
      "2020-03-07 17:30:55,868 : INFO : worker thread finished; awaiting finish of 4 more threads\n",
      "2020-03-07 17:30:55,879 : INFO : worker thread finished; awaiting finish of 3 more threads\n",
      "2020-03-07 17:30:55,902 : INFO : worker thread finished; awaiting finish of 2 more threads\n",
      "2020-03-07 17:30:55,934 : INFO : worker thread finished; awaiting finish of 1 more threads\n",
      "2020-03-07 17:30:55,977 : INFO : worker thread finished; awaiting finish of 0 more threads\n",
      "2020-03-07 17:30:55,978 : INFO : EPOCH - 3 : training on 7029378 raw words (5092622 effective words) took 27.4s, 185990 effective words/s\n",
      "2020-03-07 17:30:57,017 : INFO : EPOCH 4 - PROGRESS: at 2.55% examples, 127838 words/s, in_qsize 20, out_qsize 0\n",
      "2020-03-07 17:30:58,045 : INFO : EPOCH 4 - PROGRESS: at 6.11% examples, 152118 words/s, in_qsize 20, out_qsize 0\n",
      "2020-03-07 17:30:59,100 : INFO : EPOCH 4 - PROGRESS: at 9.40% examples, 154108 words/s, in_qsize 20, out_qsize 0\n",
      "2020-03-07 17:31:00,119 : INFO : EPOCH 4 - PROGRESS: at 13.08% examples, 161686 words/s, in_qsize 19, out_qsize 0\n",
      "2020-03-07 17:31:01,135 : INFO : EPOCH 4 - PROGRESS: at 16.38% examples, 162126 words/s, in_qsize 20, out_qsize 0\n",
      "2020-03-07 17:31:02,156 : INFO : EPOCH 4 - PROGRESS: at 19.93% examples, 164577 words/s, in_qsize 19, out_qsize 0\n",
      "2020-03-07 17:31:03,164 : INFO : EPOCH 4 - PROGRESS: at 23.63% examples, 167732 words/s, in_qsize 19, out_qsize 0\n",
      "2020-03-07 17:31:04,206 : INFO : EPOCH 4 - PROGRESS: at 27.51% examples, 170223 words/s, in_qsize 20, out_qsize 0\n",
      "2020-03-07 17:31:05,215 : INFO : EPOCH 4 - PROGRESS: at 31.35% examples, 172816 words/s, in_qsize 19, out_qsize 0\n",
      "2020-03-07 17:31:06,263 : INFO : EPOCH 4 - PROGRESS: at 35.02% examples, 173533 words/s, in_qsize 19, out_qsize 0\n",
      "2020-03-07 17:31:07,279 : INFO : EPOCH 4 - PROGRESS: at 38.71% examples, 174626 words/s, in_qsize 20, out_qsize 0\n",
      "2020-03-07 17:31:08,280 : INFO : EPOCH 4 - PROGRESS: at 42.26% examples, 175152 words/s, in_qsize 19, out_qsize 0\n",
      "2020-03-07 17:31:09,315 : INFO : EPOCH 4 - PROGRESS: at 45.79% examples, 175116 words/s, in_qsize 19, out_qsize 1\n",
      "2020-03-07 17:31:10,317 : INFO : EPOCH 4 - PROGRESS: at 49.93% examples, 177529 words/s, in_qsize 19, out_qsize 0\n",
      "2020-03-07 17:31:11,328 : INFO : EPOCH 4 - PROGRESS: at 53.22% examples, 176680 words/s, in_qsize 19, out_qsize 1\n",
      "2020-03-07 17:31:12,331 : INFO : EPOCH 4 - PROGRESS: at 57.06% examples, 177808 words/s, in_qsize 19, out_qsize 0\n",
      "2020-03-07 17:31:13,407 : INFO : EPOCH 4 - PROGRESS: at 60.88% examples, 178031 words/s, in_qsize 19, out_qsize 0\n",
      "2020-03-07 17:31:14,430 : INFO : EPOCH 4 - PROGRESS: at 64.72% examples, 178760 words/s, in_qsize 20, out_qsize 0\n",
      "2020-03-07 17:31:15,439 : INFO : EPOCH 4 - PROGRESS: at 68.39% examples, 179184 words/s, in_qsize 19, out_qsize 0\n",
      "2020-03-07 17:31:16,533 : INFO : EPOCH 4 - PROGRESS: at 72.37% examples, 179513 words/s, in_qsize 20, out_qsize 0\n",
      "2020-03-07 17:31:17,553 : INFO : EPOCH 4 - PROGRESS: at 76.24% examples, 180072 words/s, in_qsize 19, out_qsize 0\n",
      "2020-03-07 17:31:18,559 : INFO : EPOCH 4 - PROGRESS: at 79.80% examples, 180079 words/s, in_qsize 20, out_qsize 0\n",
      "2020-03-07 17:31:19,578 : INFO : EPOCH 4 - PROGRESS: at 83.79% examples, 180905 words/s, in_qsize 19, out_qsize 0\n",
      "2020-03-07 17:31:20,593 : INFO : EPOCH 4 - PROGRESS: at 87.62% examples, 181374 words/s, in_qsize 19, out_qsize 0\n",
      "2020-03-07 17:31:21,616 : INFO : EPOCH 4 - PROGRESS: at 91.05% examples, 180909 words/s, in_qsize 19, out_qsize 0\n",
      "2020-03-07 17:31:22,659 : INFO : EPOCH 4 - PROGRESS: at 95.01% examples, 181436 words/s, in_qsize 19, out_qsize 0\n",
      "2020-03-07 17:31:23,640 : INFO : worker thread finished; awaiting finish of 9 more threads\n",
      "2020-03-07 17:31:23,732 : INFO : EPOCH 4 - PROGRESS: at 98.95% examples, 181721 words/s, in_qsize 8, out_qsize 1\n",
      "2020-03-07 17:31:23,734 : INFO : worker thread finished; awaiting finish of 8 more threads\n",
      "2020-03-07 17:31:23,743 : INFO : worker thread finished; awaiting finish of 7 more threads\n",
      "2020-03-07 17:31:23,754 : INFO : worker thread finished; awaiting finish of 6 more threads\n",
      "2020-03-07 17:31:23,774 : INFO : worker thread finished; awaiting finish of 5 more threads\n",
      "2020-03-07 17:31:23,798 : INFO : worker thread finished; awaiting finish of 4 more threads\n",
      "2020-03-07 17:31:23,842 : INFO : worker thread finished; awaiting finish of 3 more threads\n",
      "2020-03-07 17:31:23,858 : INFO : worker thread finished; awaiting finish of 2 more threads\n"
     ]
    },
    {
     "name": "stderr",
     "output_type": "stream",
     "text": [
      "2020-03-07 17:31:23,901 : INFO : worker thread finished; awaiting finish of 1 more threads\n",
      "2020-03-07 17:31:23,940 : INFO : worker thread finished; awaiting finish of 0 more threads\n",
      "2020-03-07 17:31:23,942 : INFO : EPOCH - 4 : training on 7029378 raw words (5093436 effective words) took 27.9s, 182278 effective words/s\n",
      "2020-03-07 17:31:24,980 : INFO : EPOCH 5 - PROGRESS: at 2.84% examples, 142440 words/s, in_qsize 19, out_qsize 1\n",
      "2020-03-07 17:31:25,987 : INFO : EPOCH 5 - PROGRESS: at 6.54% examples, 164617 words/s, in_qsize 19, out_qsize 0\n",
      "2020-03-07 17:31:27,001 : INFO : EPOCH 5 - PROGRESS: at 10.53% examples, 176391 words/s, in_qsize 20, out_qsize 0\n",
      "2020-03-07 17:31:28,042 : INFO : EPOCH 5 - PROGRESS: at 14.38% examples, 179335 words/s, in_qsize 20, out_qsize 0\n",
      "2020-03-07 17:31:29,051 : INFO : EPOCH 5 - PROGRESS: at 17.94% examples, 179301 words/s, in_qsize 19, out_qsize 0\n",
      "2020-03-07 17:31:30,094 : INFO : EPOCH 5 - PROGRESS: at 21.92% examples, 181863 words/s, in_qsize 19, out_qsize 0\n",
      "2020-03-07 17:31:31,123 : INFO : EPOCH 5 - PROGRESS: at 25.94% examples, 183949 words/s, in_qsize 19, out_qsize 0\n",
      "2020-03-07 17:31:32,188 : INFO : EPOCH 5 - PROGRESS: at 29.64% examples, 183000 words/s, in_qsize 19, out_qsize 0\n",
      "2020-03-07 17:31:33,240 : INFO : EPOCH 5 - PROGRESS: at 33.61% examples, 184157 words/s, in_qsize 19, out_qsize 0\n",
      "2020-03-07 17:31:34,273 : INFO : EPOCH 5 - PROGRESS: at 37.45% examples, 184680 words/s, in_qsize 19, out_qsize 0\n",
      "2020-03-07 17:31:35,282 : INFO : EPOCH 5 - PROGRESS: at 41.25% examples, 185523 words/s, in_qsize 19, out_qsize 0\n",
      "2020-03-07 17:31:36,299 : INFO : EPOCH 5 - PROGRESS: at 44.80% examples, 184927 words/s, in_qsize 19, out_qsize 0\n",
      "2020-03-07 17:31:37,322 : INFO : EPOCH 5 - PROGRESS: at 48.65% examples, 185387 words/s, in_qsize 19, out_qsize 0\n",
      "2020-03-07 17:31:38,358 : INFO : EPOCH 5 - PROGRESS: at 52.65% examples, 186112 words/s, in_qsize 19, out_qsize 0\n",
      "2020-03-07 17:31:39,373 : INFO : EPOCH 5 - PROGRESS: at 56.20% examples, 185620 words/s, in_qsize 20, out_qsize 2\n",
      "2020-03-07 17:31:40,404 : INFO : EPOCH 5 - PROGRESS: at 60.18% examples, 186280 words/s, in_qsize 19, out_qsize 0\n",
      "2020-03-07 17:31:41,419 : INFO : EPOCH 5 - PROGRESS: at 64.01% examples, 186656 words/s, in_qsize 19, out_qsize 0\n",
      "2020-03-07 17:31:42,429 : INFO : EPOCH 5 - PROGRESS: at 67.53% examples, 186251 words/s, in_qsize 19, out_qsize 0\n",
      "2020-03-07 17:31:43,457 : INFO : EPOCH 5 - PROGRESS: at 71.38% examples, 186457 words/s, in_qsize 20, out_qsize 0\n",
      "2020-03-07 17:31:44,462 : INFO : EPOCH 5 - PROGRESS: at 75.10% examples, 186504 words/s, in_qsize 20, out_qsize 0\n",
      "2020-03-07 17:31:45,502 : INFO : EPOCH 5 - PROGRESS: at 78.95% examples, 186569 words/s, in_qsize 19, out_qsize 0\n",
      "2020-03-07 17:31:46,512 : INFO : EPOCH 5 - PROGRESS: at 82.78% examples, 186884 words/s, in_qsize 20, out_qsize 0\n",
      "2020-03-07 17:31:47,515 : INFO : EPOCH 5 - PROGRESS: at 86.77% examples, 187540 words/s, in_qsize 19, out_qsize 0\n",
      "2020-03-07 17:31:48,567 : INFO : EPOCH 5 - PROGRESS: at 90.48% examples, 187166 words/s, in_qsize 20, out_qsize 0\n",
      "2020-03-07 17:31:49,578 : INFO : EPOCH 5 - PROGRESS: at 94.29% examples, 187417 words/s, in_qsize 19, out_qsize 0\n",
      "2020-03-07 17:31:50,598 : INFO : EPOCH 5 - PROGRESS: at 97.82% examples, 187038 words/s, in_qsize 15, out_qsize 1\n",
      "2020-03-07 17:31:50,824 : INFO : worker thread finished; awaiting finish of 9 more threads\n",
      "2020-03-07 17:31:50,883 : INFO : worker thread finished; awaiting finish of 8 more threads\n",
      "2020-03-07 17:31:50,909 : INFO : worker thread finished; awaiting finish of 7 more threads\n",
      "2020-03-07 17:31:50,936 : INFO : worker thread finished; awaiting finish of 6 more threads\n",
      "2020-03-07 17:31:50,963 : INFO : worker thread finished; awaiting finish of 5 more threads\n",
      "2020-03-07 17:31:50,983 : INFO : worker thread finished; awaiting finish of 4 more threads\n",
      "2020-03-07 17:31:50,987 : INFO : worker thread finished; awaiting finish of 3 more threads\n",
      "2020-03-07 17:31:51,003 : INFO : worker thread finished; awaiting finish of 2 more threads\n",
      "2020-03-07 17:31:51,047 : INFO : worker thread finished; awaiting finish of 1 more threads\n",
      "2020-03-07 17:31:51,058 : INFO : worker thread finished; awaiting finish of 0 more threads\n",
      "2020-03-07 17:31:51,060 : INFO : EPOCH - 5 : training on 7029378 raw words (5093518 effective words) took 27.1s, 187970 effective words/s\n",
      "2020-03-07 17:31:51,062 : INFO : training on a 35146890 raw words (25466706 effective words) took 139.7s, 182237 effective words/s\n"
     ]
    },
    {
     "data": {
      "text/plain": [
       "(25466706, 35146890)"
      ]
     },
     "execution_count": 9,
     "metadata": {},
     "output_type": "execute_result"
    }
   ],
   "source": [
    "model.train(sentences=documents, total_examples=len(documents), epochs=model.iter)"
   ]
  },
  {
   "cell_type": "code",
   "execution_count": 10,
   "metadata": {},
   "outputs": [
    {
     "name": "stdout",
     "output_type": "stream",
     "text": [
      "what\n",
      "is\n",
      "the\n",
      "step\n",
      "by\n",
      "guide\n",
      "to\n",
      "invest\n",
      "in\n",
      "share\n"
     ]
    }
   ],
   "source": [
    "word_vectors = model.wv\n",
    "count = 0\n",
    "for word in word_vectors.vocab:\n",
    "    if count<10:\n",
    "        print(word)\n",
    "        count += 1\n",
    "    else:\n",
    "        break"
   ]
  },
  {
   "cell_type": "code",
   "execution_count": 11,
   "metadata": {},
   "outputs": [
    {
     "data": {
      "text/plain": [
       "47343"
      ]
     },
     "execution_count": 11,
     "metadata": {},
     "output_type": "execute_result"
    }
   ],
   "source": [
    "len(word_vectors.vocab)"
   ]
  },
  {
   "cell_type": "code",
   "execution_count": 12,
   "metadata": {},
   "outputs": [
    {
     "data": {
      "text/plain": [
       "150"
      ]
     },
     "execution_count": 12,
     "metadata": {},
     "output_type": "execute_result"
    }
   ],
   "source": [
    "vector = model.wv[\"immigration\"]  # numpy vector of a word\n",
    "len(vector)"
   ]
  },
  {
   "cell_type": "code",
   "execution_count": 13,
   "metadata": {},
   "outputs": [
    {
     "data": {
      "text/plain": [
       "array([-0.57286507,  0.00936111, -0.07135619,  0.3606828 ,  0.44542772,\n",
       "       -0.2670285 , -0.13576166,  0.40048426,  0.08479543, -0.12617715,\n",
       "        0.21967027,  0.17925   ,  0.22827391, -0.20211427,  0.33541092,\n",
       "       -0.2560815 ,  0.17130251,  0.45854336, -0.15277839,  0.77283156,\n",
       "       -0.02645537,  0.06563102,  0.14798427,  0.5241673 ,  0.07960089,\n",
       "       -0.09069192, -0.17094555,  0.55482703, -0.41328725,  0.45463374,\n",
       "        0.34139538, -0.6663228 , -0.14613153,  0.41240716,  0.19532585,\n",
       "       -0.11374048, -0.19385305,  0.1293628 ,  0.00431189, -0.21903156,\n",
       "       -0.4494347 , -0.32032672,  0.64727616, -0.0883543 ,  0.20343252,\n",
       "       -0.12309165,  0.7000441 , -0.50847316, -0.46598986, -0.7676646 ,\n",
       "        0.14378352,  0.38105544, -0.3445784 , -0.02269317,  0.4167709 ,\n",
       "        0.59495294, -0.54208523,  0.48328134,  0.61851346, -0.0779886 ,\n",
       "       -0.06174871, -0.23497246, -0.08331385, -0.06468494,  0.19608526,\n",
       "       -0.4411233 , -0.61857903,  0.29647857,  0.40070787,  0.05243901,\n",
       "        0.42080033, -0.17032883, -0.54790527, -0.17079388, -0.11304096,\n",
       "        0.00999603, -0.3256408 ,  0.3984    ,  0.23821057,  0.6088162 ,\n",
       "       -0.5001657 ,  0.05036232, -0.35984847,  0.01505606,  0.22701144,\n",
       "       -0.61212635,  0.1256569 ,  0.10089868, -0.06985624, -0.3010059 ,\n",
       "        0.25095525,  0.10062173,  0.5791413 , -0.04295659, -0.56692785,\n",
       "       -0.22551535, -0.2251113 , -0.06993423,  0.02198888,  0.29772815,\n",
       "       -0.05949154,  0.3763703 , -0.57793695, -0.2876833 ,  0.37943256,\n",
       "       -0.45570847,  0.20341474, -0.3393704 , -0.192677  ,  0.16482282,\n",
       "       -0.11233982, -0.7708463 ,  0.06048783,  0.1624771 , -0.14073165,\n",
       "        0.18156736, -0.550975  ,  0.00489971, -0.34097034, -0.03452926,\n",
       "        0.06291042,  0.20067436, -0.13172537,  0.01962388, -0.2526571 ,\n",
       "       -0.1725146 ,  0.2639947 , -0.24631365, -0.26037878, -0.04198638,\n",
       "       -0.10267562, -0.36023918,  0.45117867,  0.54710686, -0.14920886,\n",
       "       -0.04226065, -0.13322781, -0.01188646,  0.04607289, -0.28607607,\n",
       "        0.19405432, -0.01994338, -0.50488013,  0.05616042, -0.3786621 ,\n",
       "        0.08933162,  0.51683474,  0.5446154 , -0.03369429, -0.29928607],\n",
       "      dtype=float32)"
      ]
     },
     "execution_count": 13,
     "metadata": {},
     "output_type": "execute_result"
    }
   ],
   "source": [
    "vector"
   ]
  },
  {
   "cell_type": "code",
   "execution_count": 14,
   "metadata": {},
   "outputs": [
    {
     "data": {
      "text/plain": [
       "{'what': <gensim.models.keyedvectors.Vocab at 0x271b34df518>,\n",
       " 'is': <gensim.models.keyedvectors.Vocab at 0x271b8f59080>,\n",
       " 'the': <gensim.models.keyedvectors.Vocab at 0x271b4d81b70>,\n",
       " 'step': <gensim.models.keyedvectors.Vocab at 0x271b9ece2e8>,\n",
       " 'by': <gensim.models.keyedvectors.Vocab at 0x271b9ece278>,\n",
       " 'guide': <gensim.models.keyedvectors.Vocab at 0x271b9ece2b0>,\n",
       " 'to': <gensim.models.keyedvectors.Vocab at 0x271b9ece160>,\n",
       " 'invest': <gensim.models.keyedvectors.Vocab at 0x271b9ece1d0>,\n",
       " 'in': <gensim.models.keyedvectors.Vocab at 0x271b9ece0f0>,\n",
       " 'share': <gensim.models.keyedvectors.Vocab at 0x271b9ece0b8>,\n",
       " 'market': <gensim.models.keyedvectors.Vocab at 0x271b9ece198>,\n",
       " 'india': <gensim.models.keyedvectors.Vocab at 0x271b9ece128>,\n",
       " 'story': <gensim.models.keyedvectors.Vocab at 0x271b9ece470>,\n",
       " 'of': <gensim.models.keyedvectors.Vocab at 0x271b9ece438>,\n",
       " 'kohinoor': <gensim.models.keyedvectors.Vocab at 0x271b9ece4a8>,\n",
       " 'koh': <gensim.models.keyedvectors.Vocab at 0x271b9ece400>,\n",
       " 'noor': <gensim.models.keyedvectors.Vocab at 0x271e389b860>,\n",
       " 'diamond': <gensim.models.keyedvectors.Vocab at 0x271e389b898>,\n",
       " 'would': <gensim.models.keyedvectors.Vocab at 0x271e389b8d0>,\n",
       " 'happen': <gensim.models.keyedvectors.Vocab at 0x271e389b908>,\n",
       " 'if': <gensim.models.keyedvectors.Vocab at 0x271e389b940>,\n",
       " 'indian': <gensim.models.keyedvectors.Vocab at 0x271e389b978>,\n",
       " 'government': <gensim.models.keyedvectors.Vocab at 0x271e389b9b0>,\n",
       " 'stole': <gensim.models.keyedvectors.Vocab at 0x271e389b9e8>,\n",
       " 'back': <gensim.models.keyedvectors.Vocab at 0x271e389ba20>,\n",
       " 'how': <gensim.models.keyedvectors.Vocab at 0x271e389ba58>,\n",
       " 'can': <gensim.models.keyedvectors.Vocab at 0x271e389ba90>,\n",
       " 'increase': <gensim.models.keyedvectors.Vocab at 0x271e389bac8>,\n",
       " 'speed': <gensim.models.keyedvectors.Vocab at 0x271e389bb00>,\n",
       " 'my': <gensim.models.keyedvectors.Vocab at 0x271e389bb38>,\n",
       " 'internet': <gensim.models.keyedvectors.Vocab at 0x271e389bb70>,\n",
       " 'connection': <gensim.models.keyedvectors.Vocab at 0x271e389bba8>,\n",
       " 'while': <gensim.models.keyedvectors.Vocab at 0x271e389bbe0>,\n",
       " 'using': <gensim.models.keyedvectors.Vocab at 0x271e389bc18>,\n",
       " 'vpn': <gensim.models.keyedvectors.Vocab at 0x271e389bc50>,\n",
       " 'be': <gensim.models.keyedvectors.Vocab at 0x271e389bc88>,\n",
       " 'increased': <gensim.models.keyedvectors.Vocab at 0x271e389bcc0>,\n",
       " 'hacking': <gensim.models.keyedvectors.Vocab at 0x271e389bcf8>,\n",
       " 'through': <gensim.models.keyedvectors.Vocab at 0x271e389bd30>,\n",
       " 'dns': <gensim.models.keyedvectors.Vocab at 0x271e389bd68>,\n",
       " 'why': <gensim.models.keyedvectors.Vocab at 0x271e389bda0>,\n",
       " 'am': <gensim.models.keyedvectors.Vocab at 0x271e389bdd8>,\n",
       " 'mentally': <gensim.models.keyedvectors.Vocab at 0x271e389be10>,\n",
       " 'very': <gensim.models.keyedvectors.Vocab at 0x271e389be48>,\n",
       " 'lonely': <gensim.models.keyedvectors.Vocab at 0x271e389be80>,\n",
       " 'solve': <gensim.models.keyedvectors.Vocab at 0x271e389beb8>,\n",
       " 'it': <gensim.models.keyedvectors.Vocab at 0x271e389bef0>,\n",
       " 'find': <gensim.models.keyedvectors.Vocab at 0x271e389bf28>,\n",
       " 'remainder': <gensim.models.keyedvectors.Vocab at 0x271e389bf60>,\n",
       " 'when': <gensim.models.keyedvectors.Vocab at 0x271e389bf98>,\n",
       " 'math': <gensim.models.keyedvectors.Vocab at 0x271e389bfd0>,\n",
       " 'divided': <gensim.models.keyedvectors.Vocab at 0x271e38b4048>,\n",
       " 'which': <gensim.models.keyedvectors.Vocab at 0x271e38b4080>,\n",
       " 'one': <gensim.models.keyedvectors.Vocab at 0x271e38b40b8>,\n",
       " 'dissolve': <gensim.models.keyedvectors.Vocab at 0x271e38b40f0>,\n",
       " 'water': <gensim.models.keyedvectors.Vocab at 0x271e38b4128>,\n",
       " 'quikly': <gensim.models.keyedvectors.Vocab at 0x271e38b4160>,\n",
       " 'sugar': <gensim.models.keyedvectors.Vocab at 0x271e38b4198>,\n",
       " 'salt': <gensim.models.keyedvectors.Vocab at 0x271e38b41d0>,\n",
       " 'methane': <gensim.models.keyedvectors.Vocab at 0x271e38b4208>,\n",
       " 'and': <gensim.models.keyedvectors.Vocab at 0x271e38b4240>,\n",
       " 'carbon': <gensim.models.keyedvectors.Vocab at 0x271e38b4278>,\n",
       " 'di': <gensim.models.keyedvectors.Vocab at 0x271e38b42b0>,\n",
       " 'oxide': <gensim.models.keyedvectors.Vocab at 0x271e38b42e8>,\n",
       " 'fish': <gensim.models.keyedvectors.Vocab at 0x271e38b4320>,\n",
       " 'survive': <gensim.models.keyedvectors.Vocab at 0x271e38b4358>,\n",
       " 'astrology': <gensim.models.keyedvectors.Vocab at 0x271e38b4390>,\n",
       " 'capricorn': <gensim.models.keyedvectors.Vocab at 0x271e38b43c8>,\n",
       " 'sun': <gensim.models.keyedvectors.Vocab at 0x271e38b4400>,\n",
       " 'cap': <gensim.models.keyedvectors.Vocab at 0x271e38b4438>,\n",
       " 'moon': <gensim.models.keyedvectors.Vocab at 0x271e38b4470>,\n",
       " 'rising': <gensim.models.keyedvectors.Vocab at 0x271e38b44a8>,\n",
       " 'does': <gensim.models.keyedvectors.Vocab at 0x271e38b44e0>,\n",
       " 'that': <gensim.models.keyedvectors.Vocab at 0x271e38b4518>,\n",
       " 'say': <gensim.models.keyedvectors.Vocab at 0x271e38b4550>,\n",
       " 'about': <gensim.models.keyedvectors.Vocab at 0x271e38b4588>,\n",
       " 'me': <gensim.models.keyedvectors.Vocab at 0x271e38b45c0>,\n",
       " 'should': <gensim.models.keyedvectors.Vocab at 0x271e38b45f8>,\n",
       " 'buy': <gensim.models.keyedvectors.Vocab at 0x271e38b4630>,\n",
       " 'tiago': <gensim.models.keyedvectors.Vocab at 0x271e38b4668>,\n",
       " 'keeps': <gensim.models.keyedvectors.Vocab at 0x271e38b46a0>,\n",
       " 'active': <gensim.models.keyedvectors.Vocab at 0x271e38b46d8>,\n",
       " 'far': <gensim.models.keyedvectors.Vocab at 0x271e38b4710>,\n",
       " 'from': <gensim.models.keyedvectors.Vocab at 0x271e38b4748>,\n",
       " 'phone': <gensim.models.keyedvectors.Vocab at 0x271e38b4780>,\n",
       " 'video': <gensim.models.keyedvectors.Vocab at 0x271e38b47b8>,\n",
       " 'games': <gensim.models.keyedvectors.Vocab at 0x271e38b47f0>,\n",
       " 'good': <gensim.models.keyedvectors.Vocab at 0x271e38b4828>,\n",
       " 'geologist': <gensim.models.keyedvectors.Vocab at 0x271e38b4860>,\n",
       " 'do': <gensim.models.keyedvectors.Vocab at 0x271e38b4898>,\n",
       " 'you': <gensim.models.keyedvectors.Vocab at 0x271e38b48d0>,\n",
       " 'use': <gensim.models.keyedvectors.Vocab at 0x271e38b4908>,\n",
       " 'instead': <gensim.models.keyedvectors.Vocab at 0x271e38b4940>,\n",
       " 'motorola': <gensim.models.keyedvectors.Vocab at 0x271e38b4978>,\n",
       " 'company': <gensim.models.keyedvectors.Vocab at 0x271e38b49b0>,\n",
       " 'hack': <gensim.models.keyedvectors.Vocab at 0x271e38b49e8>,\n",
       " 'charter': <gensim.models.keyedvectors.Vocab at 0x271e38b4a20>,\n",
       " 'dcx': <gensim.models.keyedvectors.Vocab at 0x271e38b4a58>,\n",
       " 'for': <gensim.models.keyedvectors.Vocab at 0x271e38b4a90>,\n",
       " 'free': <gensim.models.keyedvectors.Vocab at 0x271e38b4ac8>,\n",
       " 'method': <gensim.models.keyedvectors.Vocab at 0x271e38b4b00>,\n",
       " 'separation': <gensim.models.keyedvectors.Vocab at 0x271e38b4b38>,\n",
       " 'slits': <gensim.models.keyedvectors.Vocab at 0x271e38b4b70>,\n",
       " 'fresnel': <gensim.models.keyedvectors.Vocab at 0x271e38b4ba8>,\n",
       " 'are': <gensim.models.keyedvectors.Vocab at 0x271e38b4be0>,\n",
       " 'some': <gensim.models.keyedvectors.Vocab at 0x271e38b4c18>,\n",
       " 'things': <gensim.models.keyedvectors.Vocab at 0x271e38b4c50>,\n",
       " 'technicians': <gensim.models.keyedvectors.Vocab at 0x271e38b4c88>,\n",
       " 'tell': <gensim.models.keyedvectors.Vocab at 0x271e38b4cc0>,\n",
       " 'durability': <gensim.models.keyedvectors.Vocab at 0x271e38b4cf8>,\n",
       " 'reliability': <gensim.models.keyedvectors.Vocab at 0x271e38b4d30>,\n",
       " 'laptops': <gensim.models.keyedvectors.Vocab at 0x271e38b4d68>,\n",
       " 'its': <gensim.models.keyedvectors.Vocab at 0x271e38b4da0>,\n",
       " 'components': <gensim.models.keyedvectors.Vocab at 0x271e38b4dd8>,\n",
       " 'read': <gensim.models.keyedvectors.Vocab at 0x271e38b4e10>,\n",
       " 'youtube': <gensim.models.keyedvectors.Vocab at 0x271e38b4e48>,\n",
       " 'comments': <gensim.models.keyedvectors.Vocab at 0x271e38b4e80>,\n",
       " 'make': <gensim.models.keyedvectors.Vocab at 0x271e38b4eb8>,\n",
       " 'physics': <gensim.models.keyedvectors.Vocab at 0x271e38b4ef0>,\n",
       " 'easy': <gensim.models.keyedvectors.Vocab at 0x271e38b4f28>,\n",
       " 'learn': <gensim.models.keyedvectors.Vocab at 0x271e38b4f60>,\n",
       " 'was': <gensim.models.keyedvectors.Vocab at 0x271e38b4f98>,\n",
       " 'your': <gensim.models.keyedvectors.Vocab at 0x271e38b4fd0>,\n",
       " 'first': <gensim.models.keyedvectors.Vocab at 0x271e38b8048>,\n",
       " 'sexual': <gensim.models.keyedvectors.Vocab at 0x271e38b8080>,\n",
       " 'experience': <gensim.models.keyedvectors.Vocab at 0x271e38b80b8>,\n",
       " 'like': <gensim.models.keyedvectors.Vocab at 0x271e38b80f0>,\n",
       " 'laws': <gensim.models.keyedvectors.Vocab at 0x271e38b8128>,\n",
       " 'change': <gensim.models.keyedvectors.Vocab at 0x271e38b8160>,\n",
       " 'status': <gensim.models.keyedvectors.Vocab at 0x271e38b8198>,\n",
       " 'student': <gensim.models.keyedvectors.Vocab at 0x271e38b81d0>,\n",
       " 'visa': <gensim.models.keyedvectors.Vocab at 0x271e38b8208>,\n",
       " 'green': <gensim.models.keyedvectors.Vocab at 0x271e38b8240>,\n",
       " 'card': <gensim.models.keyedvectors.Vocab at 0x271e38b8278>,\n",
       " 'us': <gensim.models.keyedvectors.Vocab at 0x271e38b82b0>,\n",
       " 'they': <gensim.models.keyedvectors.Vocab at 0x271e38b82e8>,\n",
       " 'compare': <gensim.models.keyedvectors.Vocab at 0x271e38b8320>,\n",
       " 'immigration': <gensim.models.keyedvectors.Vocab at 0x271e38b8358>,\n",
       " 'canada': <gensim.models.keyedvectors.Vocab at 0x271e38b8390>,\n",
       " 'japan': <gensim.models.keyedvectors.Vocab at 0x271e38b83c8>,\n",
       " 'trump': <gensim.models.keyedvectors.Vocab at 0x271e38b8400>,\n",
       " 'presidency': <gensim.models.keyedvectors.Vocab at 0x271e38b8438>,\n",
       " 'mean': <gensim.models.keyedvectors.Vocab at 0x271e38b8470>,\n",
       " 'current': <gensim.models.keyedvectors.Vocab at 0x271e38b84a8>,\n",
       " 'international': <gensim.models.keyedvectors.Vocab at 0x271e38b84e0>,\n",
       " 'master': <gensim.models.keyedvectors.Vocab at 0x271e38b8518>,\n",
       " 'students': <gensim.models.keyedvectors.Vocab at 0x271e38b8550>,\n",
       " 'on': <gensim.models.keyedvectors.Vocab at 0x271e38b8588>,\n",
       " 'an': <gensim.models.keyedvectors.Vocab at 0x271e38b85c0>,\n",
       " 'manipulation': <gensim.models.keyedvectors.Vocab at 0x271e38b85f8>}"
      ]
     },
     "execution_count": 14,
     "metadata": {},
     "output_type": "execute_result"
    }
   ],
   "source": [
    "wanted_words = []\n",
    "count = 0\n",
    "for word in word_vectors.vocab:\n",
    "    if count<150:\n",
    "        wanted_words.append(word)\n",
    "        count += 1\n",
    "    else:\n",
    "        break\n",
    "wanted_vocab = dict((k, word_vectors.vocab[k]) for k in wanted_words if k in word_vectors.vocab)\n",
    "wanted_vocab"
   ]
  },
  {
   "cell_type": "code",
   "execution_count": 16,
   "metadata": {},
   "outputs": [
    {
     "name": "stderr",
     "output_type": "stream",
     "text": [
      "2020-03-07 17:35:23,268 : INFO : precomputing L2-norms of word weight vectors\n"
     ]
    },
    {
     "data": {
      "text/plain": [
       "[('mobile', 0.8010058403015137),\n",
       " ('smartphone', 0.7626707553863525),\n",
       " ('phones', 0.7357526421546936),\n",
       " ('iphone', 0.7300775051116943),\n",
       " ('device', 0.7292907238006592)]"
      ]
     },
     "execution_count": 16,
     "metadata": {},
     "output_type": "execute_result"
    }
   ],
   "source": [
    "w1 = \"phone\"\n",
    "model.wv.most_similar(positive=w1, topn=5)"
   ]
  },
  {
   "cell_type": "code",
   "execution_count": 17,
   "metadata": {},
   "outputs": [
    {
     "data": {
      "text/plain": [
       "[('settlements', 0.6047110557556152), ('violations', 0.5921644568443298)]"
      ]
     },
     "execution_count": 17,
     "metadata": {},
     "output_type": "execute_result"
    }
   ],
   "source": [
    "w1 = [\"women\",\"rights\"]\n",
    "w2 = [\"girls\"]\n",
    "model.wv.most_similar (positive=w1,negative=w2,topn=2)"
   ]
  },
  {
   "cell_type": "code",
   "execution_count": 18,
   "metadata": {},
   "outputs": [
    {
     "name": "stderr",
     "output_type": "stream",
     "text": [
      "C:\\Users\\prapt\\Anaconda3\\lib\\site-packages\\gensim\\models\\keyedvectors.py:877: FutureWarning: arrays to stack must be passed as a \"sequence\" type such as list or tuple. Support for non-sequence iterables such as generators is deprecated as of NumPy 1.16 and will raise an error in the future.\n",
      "  vectors = vstack(self.word_vec(word, use_norm=True) for word in used_words).astype(REAL)\n"
     ]
    },
    {
     "data": {
      "text/plain": [
       "'peace'"
      ]
     },
     "execution_count": 18,
     "metadata": {},
     "output_type": "execute_result"
    }
   ],
   "source": [
    "model.wv.doesnt_match([\"government\",\"corruption\",\"peace\"])"
   ]
  },
  {
   "cell_type": "code",
   "execution_count": null,
   "metadata": {},
   "outputs": [],
   "source": []
  }
 ],
 "metadata": {
  "kernelspec": {
   "display_name": "Python 3",
   "language": "python",
   "name": "python3"
  },
  "language_info": {
   "codemirror_mode": {
    "name": "ipython",
    "version": 3
   },
   "file_extension": ".py",
   "mimetype": "text/x-python",
   "name": "python",
   "nbconvert_exporter": "python",
   "pygments_lexer": "ipython3",
   "version": "3.6.9"
  }
 },
 "nbformat": 4,
 "nbformat_minor": 2
}
